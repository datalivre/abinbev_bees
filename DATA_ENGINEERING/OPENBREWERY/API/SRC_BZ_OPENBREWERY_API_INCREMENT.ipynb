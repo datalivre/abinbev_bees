{
 "cells": [
  {
   "cell_type": "code",
   "execution_count": 0,
   "metadata": {
    "application/vnd.databricks.v1+cell": {
     "cellMetadata": {
      "byteLimit": 2048000,
      "rowLimit": 10000
     },
     "inputWidgets": {},
     "nuid": "0a574061-05db-477e-90e5-84364d735a1b",
     "showTitle": false,
     "tableResultSettingsMap": {},
     "title": ""
    }
   },
   "outputs": [],
   "source": [
    "from math import ceil\n",
    "import requests\n",
    "from concurrent.futures import ThreadPoolExecutor"
   ]
  },
  {
   "cell_type": "code",
   "execution_count": 0,
   "metadata": {
    "application/vnd.databricks.v1+cell": {
     "cellMetadata": {
      "byteLimit": 2048000,
      "rowLimit": 10000
     },
     "inputWidgets": {},
     "nuid": "b1f40286-e4d5-442b-b21a-e603f548bb2c",
     "showTitle": false,
     "tableResultSettingsMap": {},
     "title": ""
    }
   },
   "outputs": [],
   "source": [
    "bronze_table = 'ws_bees_dev_.db_bronze_dev.tb_openbrewery_api'\n",
    "\n",
    "domain = 'https://api.openbrewerydb.org/v1/breweries?page='\n",
    "metadados_url = 'https://api.openbrewerydb.org/v1/breweries/meta'\n",
    "\n",
    "per_page = 50\n",
    "all_data = list()"
   ]
  },
  {
   "cell_type": "code",
   "execution_count": 0,
   "metadata": {
    "application/vnd.databricks.v1+cell": {
     "cellMetadata": {
      "byteLimit": 2048000,
      "rowLimit": 10000
     },
     "inputWidgets": {},
     "nuid": "346bf484-b9ba-4a4b-9075-59449e84d54a",
     "showTitle": false,
     "tableResultSettingsMap": {},
     "title": ""
    }
   },
   "outputs": [],
   "source": [
    "def tt_pages():\n",
    "    try:\n",
    "        return ceil(requests.get(metadados_url).json().get('total')/per_page)\n",
    "    except Exception as e:\n",
    "        raise(e)\n",
    "\n",
    "def fetch_data(page):\n",
    "    response = requests.get(domain+str(page))\n",
    "    if response.status_code == 200:\n",
    "        return response.json()\n",
    "    else:\n",
    "        print(f\"Failed to get page data {page}: {response.status_code}\")\n",
    "        return None"
   ]
  },
  {
   "cell_type": "code",
   "execution_count": 0,
   "metadata": {
    "application/vnd.databricks.v1+cell": {
     "cellMetadata": {
      "byteLimit": 2048000,
      "rowLimit": 10000
     },
     "inputWidgets": {},
     "nuid": "47d21f27-1891-4a84-8e7e-af0d86ceb105",
     "showTitle": false,
     "tableResultSettingsMap": {},
     "title": ""
    }
   },
   "outputs": [],
   "source": [
    "with ThreadPoolExecutor(max_workers=10) as executor:\n",
    "    results = executor.map(fetch_data, range(1, tt_pages() + 1))\n",
    "\n",
    "for result in results:\n",
    "    if result is not None:\n",
    "        all_data.extend(result)\n",
    "else:\n",
    "    openbrewery_new_bronze_df = spark.createDataFrame(all_data).distinct()"
   ]
  },
  {
   "cell_type": "code",
   "execution_count": 0,
   "metadata": {
    "application/vnd.databricks.v1+cell": {
     "cellMetadata": {
      "byteLimit": 2048000,
      "rowLimit": 10000
     },
     "inputWidgets": {},
     "nuid": "1df23043-d652-486b-9213-da9f6511582f",
     "showTitle": false,
     "tableResultSettingsMap": {},
     "title": ""
    }
   },
   "outputs": [],
   "source": [
    "try:\n",
    "    openbrewery_bronze_df = spark.read.table(bronze_table)\n",
    "    if openbrewery_bronze_df.count() > 0:\n",
    "        openbrewery_new_bronze_df = openbrewery_new_bronze_df.join(\n",
    "            openbrewery_bronze_df, on='id', how='left_anti')\n",
    "except Exception as err:\n",
    "    print('Is this your first time here?')\n",
    "finally:\n",
    "    if openbrewery_new_bronze_df.count() > 0:\n",
    "        openbrewery_new_bronze_df.write.option(\"mergeSchema\", \"true\").mode(\n",
    "            'append').saveAsTable(bronze_table)\n",
    "        spark.sql(\"OPTIMIZE \"+bronze_table)\n",
    "    else:\n",
    "        print(\"No new records to load.\")"
   ]
  }
 ],
 "metadata": {
  "application/vnd.databricks.v1+notebook": {
   "computePreferences": null,
   "dashboards": [],
   "environmentMetadata": {
    "base_environment": "",
    "environment_version": "2"
   },
   "inputWidgetPreferences": null,
   "language": "python",
   "notebookMetadata": {
    "mostRecentlyExecutedCommandWithImplicitDF": {
     "commandId": -1,
     "dataframes": [
      "_sqldf"
     ]
    },
    "pythonIndentUnit": 4
   },
   "notebookName": "SRC_BZ_OPENBREWERY_API_INCREMENT",
   "widgets": {}
  },
  "language_info": {
   "name": "python"
  }
 },
 "nbformat": 4,
 "nbformat_minor": 0
}
